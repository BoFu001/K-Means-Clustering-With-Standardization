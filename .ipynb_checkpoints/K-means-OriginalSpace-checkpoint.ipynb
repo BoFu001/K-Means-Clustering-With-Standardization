{
 "cells": [
  {
   "cell_type": "markdown",
   "id": "80fe7a93",
   "metadata": {},
   "source": [
    "# K-Means Clustering: Using Original Feature Space\n",
    "\n",
    "This notebook demonstrates K-Means clustering **without standardizing** the features. We'll use the original data values to find and visualize clusters."
   ]
  },
  {
   "cell_type": "markdown",
   "id": "7b44d29b",
   "metadata": {},
   "source": [
    "## Step 1: Import Libraries"
   ]
  },
  {
   "cell_type": "code",
   "execution_count": null,
   "id": "fbc5aa84",
   "metadata": {},
   "outputs": [],
   "source": [
    "import pandas as pd\n",
    "import numpy as np\n",
    "import matplotlib.pyplot as plt\n",
    "from sklearn.cluster import KMeans\n",
    "\n",
    "%matplotlib inline"
   ]
  },
  {
   "cell_type": "markdown",
   "id": "0236d1b6",
   "metadata": {},
   "source": [
    "## Step 2: Load and Preview the Data"
   ]
  },
  {
   "cell_type": "code",
   "execution_count": null,
   "id": "990648ca",
   "metadata": {},
   "outputs": [],
   "source": [
    "df = pd.read_csv(\"data.csv\")\n",
    "df.head()"
   ]
  },
  {
   "cell_type": "markdown",
   "id": "08ef35c2",
   "metadata": {},
   "source": [
    "## Step 3: Visualize the Raw Data"
   ]
  },
  {
   "cell_type": "code",
   "execution_count": null,
   "id": "93f4144b",
   "metadata": {},
   "outputs": [],
   "source": [
    "plt.scatter(df.V1, df.V2, alpha=0.3, s=15)\n",
    "plt.xlabel(\"V1\")\n",
    "plt.ylabel(\"V2\")\n",
    "plt.title(\"Initial Data Scatter Plot\")\n",
    "plt.show()"
   ]
  },
  {
   "cell_type": "markdown",
   "id": "60a5e69e",
   "metadata": {},
   "source": [
    "## Step 4: Determine Optimal Number of Clusters (K) using Elbow Method"
   ]
  },
  {
   "cell_type": "code",
   "execution_count": null,
   "id": "40b597bc",
   "metadata": {},
   "outputs": [],
   "source": [
    "wcss = []\n",
    "K_range = range(1, 11)\n",
    "\n",
    "for k in K_range:\n",
    "    kmeans = KMeans(n_clusters=k, random_state=15)\n",
    "    kmeans.fit(df[['V1', 'V2']])\n",
    "    wcss.append(kmeans.inertia_)\n",
    "\n",
    "plt.plot(K_range, wcss, 'bo-')\n",
    "plt.xlabel('Number of Clusters (K)')\n",
    "plt.ylabel('Within-Cluster Sum of Squares (WCSS)')\n",
    "plt.title('Elbow Method For Optimal K')\n",
    "plt.show()"
   ]
  },
  {
   "cell_type": "markdown",
   "id": "1852a0bf",
   "metadata": {},
   "source": [
    "## Step 5: Apply KMeans with Optimal K"
   ]
  },
  {
   "cell_type": "code",
   "execution_count": null,
   "id": "620a205f",
   "metadata": {},
   "outputs": [],
   "source": [
    "# Replace this with the chosen K based on the elbow plot\n",
    "optimal_k = 3\n",
    "kmeans = KMeans(n_clusters=optimal_k, random_state=15)\n",
    "df['Cluster'] = kmeans.fit_predict(df[['V1', 'V2']])"
   ]
  },
  {
   "cell_type": "markdown",
   "id": "c5341e5c",
   "metadata": {},
   "source": [
    "## Step 6: Visualize Clustered Data (in Original Space)"
   ]
  },
  {
   "cell_type": "code",
   "execution_count": null,
   "id": "a3419fc9",
   "metadata": {},
   "outputs": [],
   "source": [
    "plt.scatter(df.V1, df.V2, c=df.Cluster, cmap='viridis', alpha=0.5)\n",
    "plt.scatter(kmeans.cluster_centers_[:, 0], kmeans.cluster_centers_[:, 1], \n",
    "            s=200, c='red', marker='X', label='Centroids')\n",
    "plt.xlabel('V1')\n",
    "plt.ylabel('V2')\n",
    "plt.title(f'KMeans Clustering with K={optimal_k} (Original Feature Space)')\n",
    "plt.legend()\n",
    "plt.show()"
   ]
  },
  {
   "cell_type": "markdown",
   "id": "02275f56",
   "metadata": {},
   "source": [
    "## Conclusion\n",
    "- This analysis was performed in the **original data space** without standardizing features.\n",
    "- Visual inspection of the elbow plot helped identify the best number of clusters.\n",
    "- KMeans then grouped the data accordingly, and we visualized both points and cluster centers."
   ]
  }
 ],
 "metadata": {},
 "nbformat": 4,
 "nbformat_minor": 5
}
